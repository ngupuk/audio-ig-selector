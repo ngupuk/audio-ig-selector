{
 "cells": [
  {
   "cell_type": "code",
   "execution_count": 2,
   "metadata": {},
   "outputs": [],
   "source": [
    "import numpy as np\n",
    "import matplotlib.pyplot as plt\n",
    "from scipy.io import wavfile\n",
    "from IPython.display import Audio\n",
    "from numpy import fft\n",
    "from random import randint\n",
    "%matplotlib inline"
   ]
  },
  {
   "cell_type": "markdown",
   "metadata": {},
   "source": [
    "# Base on Random\n",
    "\n",
    "Get random sample audio of sample."
   ]
  },
  {
   "cell_type": "code",
   "execution_count": 4,
   "metadata": {},
   "outputs": [],
   "source": [
    "rate, sample = wavfile.read(\"sample/sample.wav\")\n",
    "sample = sample[:, 0]\n",
    "durasi = 5\n",
    "\n",
    "def getAudio(sample, rete, durasi=5, min=0):\n",
    "    node = randint(min, len(sample))\n",
    "    return sample[node : node + rate * durasi]\n",
    "\n",
    "results = []\n",
    "for i in range(int(30/durasi)):\n",
    "    results.append(getAudio(sample, rate, durasi))\n",
    "    results.append(np.zeros(1*rate)) # silent space\n",
    "result = np.concatenate(tuple(results))\n",
    "wavfile.write('sample/result.wav', rate,  result)\n",
    "# Audio(result, rate=rate)"
   ]
  },
  {
   "cell_type": "code",
   "execution_count": null,
   "metadata": {},
   "outputs": [],
   "source": []
  }
 ],
 "metadata": {
  "kernelspec": {
   "display_name": "Python 3.7.4 64-bit",
   "language": "python",
   "name": "python37464bit69551872507241dcbd65f63d937c6792"
  },
  "language_info": {
   "codemirror_mode": {
    "name": "ipython",
    "version": 3
   },
   "file_extension": ".py",
   "mimetype": "text/x-python",
   "name": "python",
   "nbconvert_exporter": "python",
   "pygments_lexer": "ipython3",
   "version": "3.7.4-final"
  }
 },
 "nbformat": 4,
 "nbformat_minor": 4
}