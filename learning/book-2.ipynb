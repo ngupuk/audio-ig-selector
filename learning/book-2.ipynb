il{
 "cells": [
  {
   "cell_type": "code",
   "execution_count": null,
   "metadata": {},
   "outputs": [],
   "source": [
    "import numpy as np\n",
    "import matplotlib.pyplot as plt\n",
    "from scipy.io import wavfile\n",
    "from IPython.display import Audio\n",
    "from numpy import fft\n",
    "%matplotlib inline"
   ]
  },
  {
   "cell_type": "code",
   "execution_count": null,
   "metadata": {},
   "outputs": [],
   "source": [
    "fs, sample = wavfile.read(\"./sample/long.wav\")\n",
    "sample = sample[:, 0]"
   ]
  },
  {
   "cell_type": "code",
   "execution_count": null,
   "metadata": {},
   "outputs": [],
   "source": [
    "# Audio(sample, rate=fs)"
   ]
  },
  {
   "cell_type": "code",
   "execution_count": null,
   "metadata": {},
   "outputs": [],
   "source": [
    "# plt.figure()\n",
    "# plt.plot(sample)\n",
    "# plt.show()"
   ]
  },
  {
   "cell_type": "code",
   "execution_count": null,
   "metadata": {},
   "outputs": [],
   "source": [
    "from random import randint"
   ]
  },
  {
   "cell_type": "code",
   "execution_count": null,
   "metadata": {},
   "outputs": [],
   "source": [
    "y, x = np.histogram(sample)\n",
    "plt.figure()\n",
    "# plt.plot(h_data[0], h_data[1])\n",
    "# plt.show()\n",
    "# plt.plot(y)\n",
    "# plt.plot(x)\n",
    "sample_abs = np.abs(sample)\n",
    "node_sample = np.histogram(sample_abs)\n",
    "# plt.plot(node_sample[0])\n",
    "plt.plot(sample)\n",
    "node_loc = np.where(sample_abs < node_sample[1][1])\n",
    "# print(node_loc, node_sample)\n",
    "node_random_loc = node_loc[0][randint(0, len(node_loc[0]))]\n",
    "plt.scatter(node_random_loc, -15000, color=\"red\")\n",
    "plt.xlim(node_random_loc-20000, node_random_loc+20000)\n",
    "plt.show()\n",
    "Audio(sample[node_random_loc:node_random_loc+1000000], rate=fs)"
   ]
  },
  {
   "cell_type": "code",
   "execution_count": null,
   "metadata": {},
   "outputs": [],
   "source": [
    "\n",
    "plt.figure()\n",
    "poly = np.polyfit(range(len(sample_abs)),sample_abs, 15)\n",
    "# poly_y = np.poly1d(poly)(range(len(sample_abs)))\n",
    "# plt.plot(sample_abs)\n",
    "# plt.plot(poly_y)\n",
    "# plt.plot(list_x,list_y)\n",
    "roots = np.around(abs(np.roots(poly)))\n",
    "plt.scatter(roots, np.zeros(len(roots)) - 500, color=\"red\")\n",
    "plt.show()"
   ]
  },
  {
   "cell_type": "code",
   "execution_count": null,
   "metadata": {},
   "outputs": [],
   "source": [
    "Audio(sample[int(roots[-1]): int(roots[-1] + 3*fs)], rate=fs)\n",
    "# roots"
   ]
  }
 ],
 "metadata": {
  "kernelspec": {
   "display_name": "Python 3",
   "language": "python",
   "name": "python3"
  },
  "language_info": {
   "codemirror_mode": {
    "name": "ipython",
    "version": 3
   },
   "file_extension": ".py",
   "mimetype": "text/x-python",
   "name": "python",
   "nbconvert_exporter": "python",
   "pygments_lexer": "ipython3",
   "version": "3.7.4"
  }
 },
 "nbformat": 4,
 "nbformat_minor": 4
}
